{
 "cells": [
  {
   "cell_type": "code",
   "execution_count": 61,
   "metadata": {},
   "outputs": [],
   "source": [
    "import numpy as np\n",
    "import shutil\n",
    "import os\n",
    "import csv"
   ]
  },
  {
   "cell_type": "code",
   "execution_count": 65,
   "metadata": {},
   "outputs": [],
   "source": [
    "\n",
    "txtNames = 'C:/Users/Naama Stahl/OneDrive - post.bgu.ac.il/שולחן העבודה/Physics/Year 5/Deep learning/HW #2/Positive.txt'\n",
    "origPathPositive = 'C:/Users/Naama Stahl/OneDrive - post.bgu.ac.il/שולחן העבודה/Physics/Year 5/Deep learning/HW #2/lfw2/lfw2/'\n",
    "destPathPositive = \"C://Users//Naama Stahl//OneDrive - post.bgu.ac.il//שולחן העבודה//Physics//Year 5//Deep learning//HW #2//Data///Positive//\"\n",
    "with open(txtNames, 'r') as file:\n",
    "    lines = file.readlines()\n",
    "\n",
    "csvFilePath = os.path.join(destPathPositive, 'Indexing.csv')\n",
    "\n",
    "with open(csvFilePath, mode='w', newline='') as file:\n",
    "    writer = csv.writer(file)\n",
    "    data = [[\"firstImgName\",\"secImgName\", \"Label\"]]\n",
    "    writer.writerows(data)\n",
    "    i = 0\n",
    "    # Loop through each line\n",
    "    for line in lines:\n",
    "        # Remove any leading/trailing whitespace characters (including newline)\n",
    "        line = line.strip().split('\\t')\n",
    "        name = line[0]\n",
    "        imgN1 = line[1]\n",
    "        imgN2 = line[2]\n",
    "        imgN1Name = str(name)+'_'+str(0)*(4-len(imgN1))+str(imgN1)\n",
    "        imgN1Path = origPathPositive + f\"{name}/{imgN1Name}.jpg\"\n",
    "        imgN2Name = str(name)+'_'+str(0)*(4-len(imgN2))+str(imgN2)\n",
    "        imgN2Path = origPathPositive + f\"{name}/{imgN2Name}.jpg\"\n",
    "        pathFolder = destPathPositive + f\"dir_{i}/\"\n",
    "        os.makedirs(pathFolder, exist_ok=True)\n",
    "        shutil.copy(imgN1Path,pathFolder + \"img1.jpg\")\n",
    "        shutil.copy(imgN2Path,pathFolder + \"img2.jpg\")\n",
    "        data = [[imgN1Name,imgN2Name, \"1\"]]\n",
    "        writer.writerows(data)\n",
    "        i += 1\n",
    "\n"
   ]
  },
  {
   "cell_type": "code",
   "execution_count": 67,
   "metadata": {},
   "outputs": [],
   "source": [
    "\n",
    "txtNames = 'C:/Users/Naama Stahl/OneDrive - post.bgu.ac.il/שולחן העבודה/Physics/Year 5/Deep learning/HW #2/Negative.txt'\n",
    "origPathNegative = \"C:/Users/Naama Stahl/OneDrive - post.bgu.ac.il/שולחן העבודה/Physics/Year 5/Deep learning/HW #2/lfw2/lfw2/\"\n",
    "destPathNegative = \"C://Users//Naama Stahl//OneDrive - post.bgu.ac.il//שולחן העבודה//Physics//Year 5//Deep learning//HW #2//Data///Negative//\"\n",
    "with open(txtNames, 'r') as file:\n",
    "    lines = file.readlines()\n",
    "\n",
    "csvFilePath = os.path.join(destPathNegative, 'Indexing.csv')\n",
    "\n",
    "with open(csvFilePath, mode='w', newline='') as file:\n",
    "    writer = csv.writer(file)\n",
    "    data = [[\"firstImgName\",\"secImgName\", \"Label\"]]\n",
    "    writer.writerows(data)\n",
    "    i = 0\n",
    "    # Loop through each line\n",
    "    for line in lines:\n",
    "        # Remove any leading/trailing whitespace characters (including newline)\n",
    "        line = line.strip().split('\\t')\n",
    "        firstName = line[0]\n",
    "        firstImg = line[1]\n",
    "        secName= line[2]\n",
    "        secImg = line[3]\n",
    "        firstImgName = str(firstName)+'_'+str(0)*(4-len(firstImg))+str(firstImg)\n",
    "        firstImgPath = origPathNegative + f\"/{firstName}/{firstImgName}.jpg\"\n",
    "\n",
    "        secImgName = str(secName)+'_'+str(0)*(4-len(secImg))+str(secImg)\n",
    "        secImgPath = origPathNegative + f\"/{secName}/{secImgName}.jpg\"\n",
    "\n",
    "        pathFolder = destPathNegative + f\"dir_{i}/\"\n",
    "        \n",
    "        os.makedirs(pathFolder, exist_ok=True)\n",
    "        shutil.copy(firstImgPath,pathFolder + \"img1.jpg\")\n",
    "        shutil.copy(secImgPath,pathFolder + \"img2.jpg\")\n",
    "        data = [[firstImgName,secImgName, \"0\"]]\n",
    "        writer.writerows(data)\n",
    "        i += 1\n",
    "\n"
   ]
  },
  {
   "cell_type": "code",
   "execution_count": null,
   "metadata": {},
   "outputs": [],
   "source": []
  }
 ],
 "metadata": {
  "kernelspec": {
   "display_name": "base",
   "language": "python",
   "name": "python3"
  },
  "language_info": {
   "codemirror_mode": {
    "name": "ipython",
    "version": 3
   },
   "file_extension": ".py",
   "mimetype": "text/x-python",
   "name": "python",
   "nbconvert_exporter": "python",
   "pygments_lexer": "ipython3",
   "version": "3.9.7"
  }
 },
 "nbformat": 4,
 "nbformat_minor": 2
}
