{
 "cells": [
  {
   "cell_type": "code",
   "execution_count": 31,
   "metadata": {},
   "outputs": [],
   "source": [
    "import numpy as np\n",
    "from PIL import Image\n",
    "from typing import Tuple\n",
    "import matplotlib.pyplot as plt"
   ]
  },
  {
   "cell_type": "code",
   "execution_count": 32,
   "metadata": {},
   "outputs": [],
   "source": [
    "import torch\n",
    "import torch.nn as nn\n",
    "import torch.optim as optim\n",
    "import torch.nn.functional as F\n",
    "from torchvision import datasets, transforms\n",
    "from torch.utils.data import DataLoader"
   ]
  },
  {
   "cell_type": "code",
   "execution_count": 57,
   "metadata": {},
   "outputs": [],
   "source": [
    "def PositiveFile2Matrix()->Tuple[np.ndarray, np.ndarray]:\n",
    "    \"\"\"\n",
    "    Description - takes the txt file that has a list of names and the jpg pictures of pairs of positive examples\n",
    "    and transform them to matrix of 250X250 of gray scale values\n",
    "    Input - None\n",
    "    Output - two arrays of matrices by order of the file \n",
    "    \"\"\"\n",
    "    Positive_path = 'C:/Users/Naama Stahl/OneDrive - post.bgu.ac.il/שולחן העבודה/Physics/Year 5/Deep learning/HW #2/Positive.txt'\n",
    "    # Open and read the file\n",
    "    with open(Positive_path, 'r') as file:\n",
    "        lines = file.readlines()\n",
    "\n",
    "    first_img_matrices = []\n",
    "    sec_img_matrices = []\n",
    "    transform = transforms.ToTensor()  \n",
    "\n",
    "    # Loop through each line\n",
    "    for line in lines:\n",
    "        # Remove any leading/trailing whitespace characters (including newline)\n",
    "        line = line.strip().split('\\t')\n",
    "        name = line[0]\n",
    "        first_img = line[1]\n",
    "        sec_img = line[2]\n",
    "        first_img_name = str(name)+'_'+str(0)*(4-len(first_img))+str(first_img)\n",
    "        first_img_path = f\"C:/Users/Naama Stahl/OneDrive - post.bgu.ac.il/שולחן העבודה/Physics/Year 5/Deep learning/HW #2/lfw2/lfw2/{name}/{first_img_name}.jpg\"\n",
    "        first_img = Image.open(first_img_path)\n",
    "        first_img_matrices.append(transform(first_img))\n",
    "        sec_img_name = str(name)+'_'+str(0)*(4-len(sec_img))+str(sec_img)\n",
    "        sec_img_path = f\"C:/Users/Naama Stahl/OneDrive - post.bgu.ac.il/שולחן העבודה/Physics/Year 5/Deep learning/HW #2/lfw2/lfw2/{name}/{sec_img_name}.jpg\"\n",
    "        sec_img = Image.open(sec_img_path)\n",
    "        sec_img_matrices.append(transform(sec_img))\n",
    "\n",
    "    return first_img_matrices,sec_img_matrices\n"
   ]
  },
  {
   "cell_type": "code",
   "execution_count": 61,
   "metadata": {},
   "outputs": [],
   "source": [
    "def NegativeFile2Matrix()->Tuple[np.ndarray, np.ndarray]:\n",
    "    \"\"\"\n",
    "    Description - takes the txt file that has a list of names and the jpg pictures of pairs of negative examples\n",
    "    and transform them to matrix of 250X250 of gray scale values\n",
    "    Input - None\n",
    "    Output - two arrays of matrices by order of the file \n",
    "    \"\"\"\n",
    "    Negative_path = 'C:/Users/Naama Stahl/OneDrive - post.bgu.ac.il/שולחן העבודה/Physics/Year 5/Deep learning/HW #2/Negative.txt'\n",
    "    # Open and read the file\n",
    "    with open(Negative_path, 'r') as file:\n",
    "        lines = file.readlines()\n",
    "\n",
    "    first_img_matrices = []\n",
    "    sec_img_matrices = []\n",
    "    transform = transforms.ToTensor()  \n",
    "\n",
    "    # Loop through each line\n",
    "    for line in lines:\n",
    "        # Remove any leading/trailing whitespace characters (including newline)\n",
    "        line = line.strip().split('\\t')\n",
    "        first_name = line[0]\n",
    "        first_img = line[1]\n",
    "        sec_name= line[2]\n",
    "        sec_img = line[3]\n",
    "        first_img_name = str(first_name)+'_'+str(0)*(4-len(first_img))+str(first_img)\n",
    "        first_img_path = f\"C:/Users/Naama Stahl/OneDrive - post.bgu.ac.il/שולחן העבודה/Physics/Year 5/Deep learning/HW #2/lfw2/lfw2/{first_name}/{first_img_name}.jpg\"\n",
    "        first_img = Image.open(first_img_path)\n",
    "        first_img_matrices.append(transform(first_img))\n",
    "        sec_img_name = str(sec_name)+'_'+str(0)*(4-len(sec_img))+str(sec_img)\n",
    "        sec_img_path = f\"C:/Users/Naama Stahl/OneDrive - post.bgu.ac.il/שולחן העבודה/Physics/Year 5/Deep learning/HW #2/lfw2/lfw2/{sec_name}/{sec_img_name}.jpg\"\n",
    "        sec_img = Image.open(sec_img_path)\n",
    "        sec_img_matrices.append(transform(sec_img))\n",
    "\n",
    "    return first_img_matrices,sec_img_matrices\n"
   ]
  }
 ],
 "metadata": {
  "kernelspec": {
   "display_name": "base",
   "language": "python",
   "name": "python3"
  },
  "language_info": {
   "codemirror_mode": {
    "name": "ipython",
    "version": 3
   },
   "file_extension": ".py",
   "mimetype": "text/x-python",
   "name": "python",
   "nbconvert_exporter": "python",
   "pygments_lexer": "ipython3",
   "version": "3.9.7"
  }
 },
 "nbformat": 4,
 "nbformat_minor": 2
}
